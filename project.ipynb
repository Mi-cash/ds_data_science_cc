{
 "cells": [
  {
   "cell_type": "markdown",
   "id": "a0fd2eb3-5930-4d2e-b3d6-0aaadf4b3581",
   "metadata": {},
   "source": [
    "## IMPORTING LIBRARIES "
   ]
  },
  {
   "cell_type": "code",
   "execution_count": 1,
   "id": "9e622329-7a3c-4b3c-bcda-3aad4f5fcc33",
   "metadata": {},
   "outputs": [],
   "source": [
    "# Reading and Processing\n",
    "import pandas as pd\n",
    "import numpy as np\n",
    "\n",
    "# Visualization\n",
    "import matplotlib.pyplot as plt\n",
    "import seaborn as sns\n",
    "\n",
    "## building validation framework \n",
    "from sklearn.model_selection import train_test_split\n",
    "\n",
    "## regression model \n",
    "from sklearn.linear_model import LinearRegression \n",
    "from sklearn.tree import DecisionTreeRegressor\n",
    "from sklearn.ensemble import RandomForestRegressor, AdaBoostRegressor, GradientBoostingRegressor, BaggingRegressor\n",
    "from xgboost import XGBRegressor\n",
    "\n",
    "## metrics \n",
    "from sklearn.metrics import root_mean_squared_error, mean_squared_error\n",
    "\n",
    "## categorical encoding \n",
    "from sklearn.feature_extraction import DictVectorizer\n"
   ]
  },
  {
   "cell_type": "markdown",
   "id": "759f7c62-5791-4b4a-a45f-217012b382a8",
   "metadata": {},
   "source": [
    "## LOADING AND MAKING A COPY OF THE DATASET"
   ]
  },
  {
   "cell_type": "code",
   "execution_count": 2,
   "id": "a87dc96a-04b6-4add-888c-87f6bbfd2c7c",
   "metadata": {},
   "outputs": [],
   "source": [
    "housing = pd.read_csv('Housing.csv')\n",
    "df = housing.copy()"
   ]
  },
  {
   "cell_type": "markdown",
   "id": "609e21ab-b6da-45f1-adde-0bfc4c450b36",
   "metadata": {},
   "source": [
    "## OVERVIEW OF THE DATASET"
   ]
  },
  {
   "cell_type": "code",
   "execution_count": 3,
   "id": "35cc1ceb-9167-4b11-aeb0-4bee9e3a962b",
   "metadata": {},
   "outputs": [
    {
     "data": {
      "text/html": [
       "<div>\n",
       "<style scoped>\n",
       "    .dataframe tbody tr th:only-of-type {\n",
       "        vertical-align: middle;\n",
       "    }\n",
       "\n",
       "    .dataframe tbody tr th {\n",
       "        vertical-align: top;\n",
       "    }\n",
       "\n",
       "    .dataframe thead th {\n",
       "        text-align: right;\n",
       "    }\n",
       "</style>\n",
       "<table border=\"1\" class=\"dataframe\">\n",
       "  <thead>\n",
       "    <tr style=\"text-align: right;\">\n",
       "      <th></th>\n",
       "      <th>price</th>\n",
       "      <th>area</th>\n",
       "      <th>bedrooms</th>\n",
       "      <th>bathrooms</th>\n",
       "      <th>stories</th>\n",
       "      <th>mainroad</th>\n",
       "      <th>guestroom</th>\n",
       "      <th>basement</th>\n",
       "      <th>hotwaterheating</th>\n",
       "      <th>airconditioning</th>\n",
       "      <th>parking</th>\n",
       "      <th>prefarea</th>\n",
       "      <th>furnishingstatus</th>\n",
       "    </tr>\n",
       "  </thead>\n",
       "  <tbody>\n",
       "    <tr>\n",
       "      <th>0</th>\n",
       "      <td>13300000</td>\n",
       "      <td>7420</td>\n",
       "      <td>4</td>\n",
       "      <td>2</td>\n",
       "      <td>3</td>\n",
       "      <td>yes</td>\n",
       "      <td>no</td>\n",
       "      <td>no</td>\n",
       "      <td>no</td>\n",
       "      <td>yes</td>\n",
       "      <td>2</td>\n",
       "      <td>yes</td>\n",
       "      <td>furnished</td>\n",
       "    </tr>\n",
       "    <tr>\n",
       "      <th>1</th>\n",
       "      <td>12250000</td>\n",
       "      <td>8960</td>\n",
       "      <td>4</td>\n",
       "      <td>4</td>\n",
       "      <td>4</td>\n",
       "      <td>yes</td>\n",
       "      <td>no</td>\n",
       "      <td>no</td>\n",
       "      <td>no</td>\n",
       "      <td>yes</td>\n",
       "      <td>3</td>\n",
       "      <td>no</td>\n",
       "      <td>furnished</td>\n",
       "    </tr>\n",
       "    <tr>\n",
       "      <th>2</th>\n",
       "      <td>12250000</td>\n",
       "      <td>9960</td>\n",
       "      <td>3</td>\n",
       "      <td>2</td>\n",
       "      <td>2</td>\n",
       "      <td>yes</td>\n",
       "      <td>no</td>\n",
       "      <td>yes</td>\n",
       "      <td>no</td>\n",
       "      <td>no</td>\n",
       "      <td>2</td>\n",
       "      <td>yes</td>\n",
       "      <td>semi-furnished</td>\n",
       "    </tr>\n",
       "    <tr>\n",
       "      <th>3</th>\n",
       "      <td>12215000</td>\n",
       "      <td>7500</td>\n",
       "      <td>4</td>\n",
       "      <td>2</td>\n",
       "      <td>2</td>\n",
       "      <td>yes</td>\n",
       "      <td>no</td>\n",
       "      <td>yes</td>\n",
       "      <td>no</td>\n",
       "      <td>yes</td>\n",
       "      <td>3</td>\n",
       "      <td>yes</td>\n",
       "      <td>furnished</td>\n",
       "    </tr>\n",
       "    <tr>\n",
       "      <th>4</th>\n",
       "      <td>11410000</td>\n",
       "      <td>7420</td>\n",
       "      <td>4</td>\n",
       "      <td>1</td>\n",
       "      <td>2</td>\n",
       "      <td>yes</td>\n",
       "      <td>yes</td>\n",
       "      <td>yes</td>\n",
       "      <td>no</td>\n",
       "      <td>yes</td>\n",
       "      <td>2</td>\n",
       "      <td>no</td>\n",
       "      <td>furnished</td>\n",
       "    </tr>\n",
       "  </tbody>\n",
       "</table>\n",
       "</div>"
      ],
      "text/plain": [
       "      price  area  bedrooms  bathrooms  stories mainroad guestroom basement  \\\n",
       "0  13300000  7420         4          2        3      yes        no       no   \n",
       "1  12250000  8960         4          4        4      yes        no       no   \n",
       "2  12250000  9960         3          2        2      yes        no      yes   \n",
       "3  12215000  7500         4          2        2      yes        no      yes   \n",
       "4  11410000  7420         4          1        2      yes       yes      yes   \n",
       "\n",
       "  hotwaterheating airconditioning  parking prefarea furnishingstatus  \n",
       "0              no             yes        2      yes        furnished  \n",
       "1              no             yes        3       no        furnished  \n",
       "2              no              no        2      yes   semi-furnished  \n",
       "3              no             yes        3      yes        furnished  \n",
       "4              no             yes        2       no        furnished  "
      ]
     },
     "execution_count": 3,
     "metadata": {},
     "output_type": "execute_result"
    }
   ],
   "source": [
    "## first five rows\n",
    "df.head()"
   ]
  },
  {
   "cell_type": "code",
   "execution_count": 4,
   "id": "4bad721a-5194-4515-8cec-2b65f5a416be",
   "metadata": {},
   "outputs": [
    {
     "data": {
      "text/html": [
       "<div>\n",
       "<style scoped>\n",
       "    .dataframe tbody tr th:only-of-type {\n",
       "        vertical-align: middle;\n",
       "    }\n",
       "\n",
       "    .dataframe tbody tr th {\n",
       "        vertical-align: top;\n",
       "    }\n",
       "\n",
       "    .dataframe thead th {\n",
       "        text-align: right;\n",
       "    }\n",
       "</style>\n",
       "<table border=\"1\" class=\"dataframe\">\n",
       "  <thead>\n",
       "    <tr style=\"text-align: right;\">\n",
       "      <th></th>\n",
       "      <th>price</th>\n",
       "      <th>area</th>\n",
       "      <th>bedrooms</th>\n",
       "      <th>bathrooms</th>\n",
       "      <th>stories</th>\n",
       "      <th>mainroad</th>\n",
       "      <th>guestroom</th>\n",
       "      <th>basement</th>\n",
       "      <th>hotwaterheating</th>\n",
       "      <th>airconditioning</th>\n",
       "      <th>parking</th>\n",
       "      <th>prefarea</th>\n",
       "      <th>furnishingstatus</th>\n",
       "    </tr>\n",
       "  </thead>\n",
       "  <tbody>\n",
       "    <tr>\n",
       "      <th>540</th>\n",
       "      <td>1820000</td>\n",
       "      <td>3000</td>\n",
       "      <td>2</td>\n",
       "      <td>1</td>\n",
       "      <td>1</td>\n",
       "      <td>yes</td>\n",
       "      <td>no</td>\n",
       "      <td>yes</td>\n",
       "      <td>no</td>\n",
       "      <td>no</td>\n",
       "      <td>2</td>\n",
       "      <td>no</td>\n",
       "      <td>unfurnished</td>\n",
       "    </tr>\n",
       "    <tr>\n",
       "      <th>541</th>\n",
       "      <td>1767150</td>\n",
       "      <td>2400</td>\n",
       "      <td>3</td>\n",
       "      <td>1</td>\n",
       "      <td>1</td>\n",
       "      <td>no</td>\n",
       "      <td>no</td>\n",
       "      <td>no</td>\n",
       "      <td>no</td>\n",
       "      <td>no</td>\n",
       "      <td>0</td>\n",
       "      <td>no</td>\n",
       "      <td>semi-furnished</td>\n",
       "    </tr>\n",
       "    <tr>\n",
       "      <th>542</th>\n",
       "      <td>1750000</td>\n",
       "      <td>3620</td>\n",
       "      <td>2</td>\n",
       "      <td>1</td>\n",
       "      <td>1</td>\n",
       "      <td>yes</td>\n",
       "      <td>no</td>\n",
       "      <td>no</td>\n",
       "      <td>no</td>\n",
       "      <td>no</td>\n",
       "      <td>0</td>\n",
       "      <td>no</td>\n",
       "      <td>unfurnished</td>\n",
       "    </tr>\n",
       "    <tr>\n",
       "      <th>543</th>\n",
       "      <td>1750000</td>\n",
       "      <td>2910</td>\n",
       "      <td>3</td>\n",
       "      <td>1</td>\n",
       "      <td>1</td>\n",
       "      <td>no</td>\n",
       "      <td>no</td>\n",
       "      <td>no</td>\n",
       "      <td>no</td>\n",
       "      <td>no</td>\n",
       "      <td>0</td>\n",
       "      <td>no</td>\n",
       "      <td>furnished</td>\n",
       "    </tr>\n",
       "    <tr>\n",
       "      <th>544</th>\n",
       "      <td>1750000</td>\n",
       "      <td>3850</td>\n",
       "      <td>3</td>\n",
       "      <td>1</td>\n",
       "      <td>2</td>\n",
       "      <td>yes</td>\n",
       "      <td>no</td>\n",
       "      <td>no</td>\n",
       "      <td>no</td>\n",
       "      <td>no</td>\n",
       "      <td>0</td>\n",
       "      <td>no</td>\n",
       "      <td>unfurnished</td>\n",
       "    </tr>\n",
       "  </tbody>\n",
       "</table>\n",
       "</div>"
      ],
      "text/plain": [
       "       price  area  bedrooms  bathrooms  stories mainroad guestroom basement  \\\n",
       "540  1820000  3000         2          1        1      yes        no      yes   \n",
       "541  1767150  2400         3          1        1       no        no       no   \n",
       "542  1750000  3620         2          1        1      yes        no       no   \n",
       "543  1750000  2910         3          1        1       no        no       no   \n",
       "544  1750000  3850         3          1        2      yes        no       no   \n",
       "\n",
       "    hotwaterheating airconditioning  parking prefarea furnishingstatus  \n",
       "540              no              no        2       no      unfurnished  \n",
       "541              no              no        0       no   semi-furnished  \n",
       "542              no              no        0       no      unfurnished  \n",
       "543              no              no        0       no        furnished  \n",
       "544              no              no        0       no      unfurnished  "
      ]
     },
     "execution_count": 4,
     "metadata": {},
     "output_type": "execute_result"
    }
   ],
   "source": [
    "## last five rows\n",
    "df.tail()"
   ]
  },
  {
   "cell_type": "code",
   "execution_count": 5,
   "id": "8344d7cf-47d2-4103-9856-65d7024db2cd",
   "metadata": {},
   "outputs": [
    {
     "name": "stdout",
     "output_type": "stream",
     "text": [
      "The total number of rows is 545 and the total number of columns is 13\n"
     ]
    }
   ],
   "source": [
    "## shape of the dataset\n",
    "print(f'The total number of rows is {df.shape[0]} and the total number of columns is {df.shape[1]}')"
   ]
  },
  {
   "cell_type": "code",
   "execution_count": 6,
   "id": "f569247c-226c-43ce-86c9-37ad9509a48c",
   "metadata": {},
   "outputs": [
    {
     "name": "stdout",
     "output_type": "stream",
     "text": [
      "The size of the dataset is 7085\n"
     ]
    }
   ],
   "source": [
    "## size of the dataset\n",
    "print(f'The size of the dataset is {df.size}')"
   ]
  },
  {
   "cell_type": "code",
   "execution_count": 7,
   "id": "3d77e52f-7a2b-41ea-a824-bfaf5cdac194",
   "metadata": {},
   "outputs": [
    {
     "name": "stdout",
     "output_type": "stream",
     "text": [
      "<class 'pandas.core.frame.DataFrame'>\n",
      "RangeIndex: 545 entries, 0 to 544\n",
      "Data columns (total 13 columns):\n",
      " #   Column            Non-Null Count  Dtype \n",
      "---  ------            --------------  ----- \n",
      " 0   price             545 non-null    int64 \n",
      " 1   area              545 non-null    int64 \n",
      " 2   bedrooms          545 non-null    int64 \n",
      " 3   bathrooms         545 non-null    int64 \n",
      " 4   stories           545 non-null    int64 \n",
      " 5   mainroad          545 non-null    object\n",
      " 6   guestroom         545 non-null    object\n",
      " 7   basement          545 non-null    object\n",
      " 8   hotwaterheating   545 non-null    object\n",
      " 9   airconditioning   545 non-null    object\n",
      " 10  parking           545 non-null    int64 \n",
      " 11  prefarea          545 non-null    object\n",
      " 12  furnishingstatus  545 non-null    object\n",
      "dtypes: int64(6), object(7)\n",
      "memory usage: 55.5+ KB\n"
     ]
    }
   ],
   "source": [
    "## Summary of the dataset\n",
    "df.info()"
   ]
  },
  {
   "cell_type": "code",
   "execution_count": 8,
   "id": "74910849-629b-4a0d-868c-a1b2365e913a",
   "metadata": {},
   "outputs": [
    {
     "data": {
      "text/plain": [
       "price               0\n",
       "area                0\n",
       "bedrooms            0\n",
       "bathrooms           0\n",
       "stories             0\n",
       "mainroad            0\n",
       "guestroom           0\n",
       "basement            0\n",
       "hotwaterheating     0\n",
       "airconditioning     0\n",
       "parking             0\n",
       "prefarea            0\n",
       "furnishingstatus    0\n",
       "dtype: int64"
      ]
     },
     "execution_count": 8,
     "metadata": {},
     "output_type": "execute_result"
    }
   ],
   "source": [
    "## checking for missing values\n",
    "df.isnull().sum()"
   ]
  },
  {
   "cell_type": "code",
   "execution_count": 9,
   "id": "bae42124-57d6-4847-8275-c58f13a82d87",
   "metadata": {},
   "outputs": [
    {
     "name": "stdout",
     "output_type": "stream",
     "text": [
      "The value counts in price column is price\n",
      "3500000     17\n",
      "4200000     17\n",
      "4900000     12\n",
      "3150000      9\n",
      "5600000      9\n",
      "            ..\n",
      "6580000      1\n",
      "4319000      1\n",
      "4375000      1\n",
      "4382000      1\n",
      "13300000     1\n",
      "Name: count, Length: 219, dtype: int64\n",
      "The value counts in area column is area\n",
      "6000    24\n",
      "3000    14\n",
      "4500    13\n",
      "4000    11\n",
      "5500     9\n",
      "        ..\n",
      "6862     1\n",
      "4815     1\n",
      "9166     1\n",
      "6321     1\n",
      "3620     1\n",
      "Name: count, Length: 284, dtype: int64\n",
      "The value counts in bedrooms column is bedrooms\n",
      "3    300\n",
      "2    136\n",
      "4     95\n",
      "5     10\n",
      "6      2\n",
      "1      2\n",
      "Name: count, dtype: int64\n",
      "The value counts in bathrooms column is bathrooms\n",
      "1    401\n",
      "2    133\n",
      "3     10\n",
      "4      1\n",
      "Name: count, dtype: int64\n",
      "The value counts in stories column is stories\n",
      "2    238\n",
      "1    227\n",
      "4     41\n",
      "3     39\n",
      "Name: count, dtype: int64\n",
      "The value counts in mainroad column is mainroad\n",
      "yes    468\n",
      "no      77\n",
      "Name: count, dtype: int64\n",
      "The value counts in guestroom column is guestroom\n",
      "no     448\n",
      "yes     97\n",
      "Name: count, dtype: int64\n",
      "The value counts in basement column is basement\n",
      "no     354\n",
      "yes    191\n",
      "Name: count, dtype: int64\n",
      "The value counts in hotwaterheating column is hotwaterheating\n",
      "no     520\n",
      "yes     25\n",
      "Name: count, dtype: int64\n",
      "The value counts in airconditioning column is airconditioning\n",
      "no     373\n",
      "yes    172\n",
      "Name: count, dtype: int64\n",
      "The value counts in parking column is parking\n",
      "0    299\n",
      "1    126\n",
      "2    108\n",
      "3     12\n",
      "Name: count, dtype: int64\n",
      "The value counts in prefarea column is prefarea\n",
      "no     417\n",
      "yes    128\n",
      "Name: count, dtype: int64\n",
      "The value counts in furnishingstatus column is furnishingstatus\n",
      "semi-furnished    227\n",
      "unfurnished       178\n",
      "furnished         140\n",
      "Name: count, dtype: int64\n"
     ]
    }
   ],
   "source": [
    "## checking for special characters in each column\n",
    "for each_col in df.columns:\n",
    "    print(f'The value counts in {each_col} column is {df[each_col].value_counts()}')"
   ]
  },
  {
   "cell_type": "code",
   "execution_count": 10,
   "id": "36673a53-e70d-4a23-85c9-ac0599d3d6ce",
   "metadata": {},
   "outputs": [
    {
     "data": {
      "text/plain": [
       "price                int64\n",
       "area                 int64\n",
       "bedrooms             int64\n",
       "bathrooms            int64\n",
       "stories              int64\n",
       "mainroad            object\n",
       "guestroom           object\n",
       "basement            object\n",
       "hotwaterheating     object\n",
       "airconditioning     object\n",
       "parking              int64\n",
       "prefarea            object\n",
       "furnishingstatus    object\n",
       "dtype: object"
      ]
     },
     "execution_count": 10,
     "metadata": {},
     "output_type": "execute_result"
    }
   ],
   "source": [
    "## checking for the data type of the columns\n",
    "df.dtypes"
   ]
  },
  {
   "cell_type": "markdown",
   "id": "cc167158-ffe2-4323-8f40-f73e9ab63029",
   "metadata": {},
   "source": [
    "## DATA PROCESSING "
   ]
  },
  {
   "cell_type": "code",
   "execution_count": 11,
   "id": "9df5345d-e58a-470a-b18d-1fb65562a2c4",
   "metadata": {},
   "outputs": [],
   "source": [
    "## Changing all object data types to category\n",
    "for columntype_object in df.select_dtypes(include='object').columns:\n",
    "    df[columntype_object] = df[columntype_object].astype('category')\n"
   ]
  },
  {
   "cell_type": "code",
   "execution_count": 12,
   "id": "00228220-f67d-4816-9848-19665d8a0472",
   "metadata": {},
   "outputs": [
    {
     "data": {
      "text/plain": [
       "price                  int64\n",
       "area                   int64\n",
       "bedrooms               int64\n",
       "bathrooms              int64\n",
       "stories                int64\n",
       "mainroad            category\n",
       "guestroom           category\n",
       "basement            category\n",
       "hotwaterheating     category\n",
       "airconditioning     category\n",
       "parking                int64\n",
       "prefarea            category\n",
       "furnishingstatus    category\n",
       "dtype: object"
      ]
     },
     "execution_count": 12,
     "metadata": {},
     "output_type": "execute_result"
    }
   ],
   "source": [
    "## checking for the changes \n",
    "df.dtypes"
   ]
  },
  {
   "cell_type": "markdown",
   "id": "75c15daa-8884-4176-a67d-3c74a678b357",
   "metadata": {},
   "source": [
    "## Descriptive Analysis\n"
   ]
  },
  {
   "cell_type": "code",
   "execution_count": 13,
   "id": "5d2ca90a-d9df-4376-89b3-180d05e53525",
   "metadata": {},
   "outputs": [
    {
     "data": {
      "text/html": [
       "<div>\n",
       "<style scoped>\n",
       "    .dataframe tbody tr th:only-of-type {\n",
       "        vertical-align: middle;\n",
       "    }\n",
       "\n",
       "    .dataframe tbody tr th {\n",
       "        vertical-align: top;\n",
       "    }\n",
       "\n",
       "    .dataframe thead th {\n",
       "        text-align: right;\n",
       "    }\n",
       "</style>\n",
       "<table border=\"1\" class=\"dataframe\">\n",
       "  <thead>\n",
       "    <tr style=\"text-align: right;\">\n",
       "      <th></th>\n",
       "      <th>price</th>\n",
       "      <th>area</th>\n",
       "      <th>bedrooms</th>\n",
       "      <th>bathrooms</th>\n",
       "      <th>stories</th>\n",
       "      <th>parking</th>\n",
       "    </tr>\n",
       "  </thead>\n",
       "  <tbody>\n",
       "    <tr>\n",
       "      <th>count</th>\n",
       "      <td>545.0</td>\n",
       "      <td>545.0</td>\n",
       "      <td>545.0</td>\n",
       "      <td>545.0</td>\n",
       "      <td>545.0</td>\n",
       "      <td>545.0</td>\n",
       "    </tr>\n",
       "    <tr>\n",
       "      <th>mean</th>\n",
       "      <td>4766729.2</td>\n",
       "      <td>5150.5</td>\n",
       "      <td>3.0</td>\n",
       "      <td>1.3</td>\n",
       "      <td>1.8</td>\n",
       "      <td>0.7</td>\n",
       "    </tr>\n",
       "    <tr>\n",
       "      <th>std</th>\n",
       "      <td>1870439.6</td>\n",
       "      <td>2170.1</td>\n",
       "      <td>0.7</td>\n",
       "      <td>0.5</td>\n",
       "      <td>0.9</td>\n",
       "      <td>0.9</td>\n",
       "    </tr>\n",
       "    <tr>\n",
       "      <th>min</th>\n",
       "      <td>1750000.0</td>\n",
       "      <td>1650.0</td>\n",
       "      <td>1.0</td>\n",
       "      <td>1.0</td>\n",
       "      <td>1.0</td>\n",
       "      <td>0.0</td>\n",
       "    </tr>\n",
       "    <tr>\n",
       "      <th>25%</th>\n",
       "      <td>3430000.0</td>\n",
       "      <td>3600.0</td>\n",
       "      <td>2.0</td>\n",
       "      <td>1.0</td>\n",
       "      <td>1.0</td>\n",
       "      <td>0.0</td>\n",
       "    </tr>\n",
       "    <tr>\n",
       "      <th>50%</th>\n",
       "      <td>4340000.0</td>\n",
       "      <td>4600.0</td>\n",
       "      <td>3.0</td>\n",
       "      <td>1.0</td>\n",
       "      <td>2.0</td>\n",
       "      <td>0.0</td>\n",
       "    </tr>\n",
       "    <tr>\n",
       "      <th>75%</th>\n",
       "      <td>5740000.0</td>\n",
       "      <td>6360.0</td>\n",
       "      <td>3.0</td>\n",
       "      <td>2.0</td>\n",
       "      <td>2.0</td>\n",
       "      <td>1.0</td>\n",
       "    </tr>\n",
       "    <tr>\n",
       "      <th>max</th>\n",
       "      <td>13300000.0</td>\n",
       "      <td>16200.0</td>\n",
       "      <td>6.0</td>\n",
       "      <td>4.0</td>\n",
       "      <td>4.0</td>\n",
       "      <td>3.0</td>\n",
       "    </tr>\n",
       "  </tbody>\n",
       "</table>\n",
       "</div>"
      ],
      "text/plain": [
       "            price     area  bedrooms  bathrooms  stories  parking\n",
       "count       545.0    545.0     545.0      545.0    545.0    545.0\n",
       "mean    4766729.2   5150.5       3.0        1.3      1.8      0.7\n",
       "std     1870439.6   2170.1       0.7        0.5      0.9      0.9\n",
       "min     1750000.0   1650.0       1.0        1.0      1.0      0.0\n",
       "25%     3430000.0   3600.0       2.0        1.0      1.0      0.0\n",
       "50%     4340000.0   4600.0       3.0        1.0      2.0      0.0\n",
       "75%     5740000.0   6360.0       3.0        2.0      2.0      1.0\n",
       "max    13300000.0  16200.0       6.0        4.0      4.0      3.0"
      ]
     },
     "execution_count": 13,
     "metadata": {},
     "output_type": "execute_result"
    }
   ],
   "source": [
    "# statistical summary\n",
    "df.describe().round(1)"
   ]
  },
  {
   "cell_type": "code",
   "execution_count": 14,
   "id": "4447b777-afb8-4be7-bd99-0a1ff88b9177",
   "metadata": {},
   "outputs": [
    {
     "data": {
      "text/html": [
       "<div>\n",
       "<style scoped>\n",
       "    .dataframe tbody tr th:only-of-type {\n",
       "        vertical-align: middle;\n",
       "    }\n",
       "\n",
       "    .dataframe tbody tr th {\n",
       "        vertical-align: top;\n",
       "    }\n",
       "\n",
       "    .dataframe thead th {\n",
       "        text-align: right;\n",
       "    }\n",
       "</style>\n",
       "<table border=\"1\" class=\"dataframe\">\n",
       "  <thead>\n",
       "    <tr style=\"text-align: right;\">\n",
       "      <th></th>\n",
       "      <th>price</th>\n",
       "      <th>area</th>\n",
       "      <th>bedrooms</th>\n",
       "      <th>bathrooms</th>\n",
       "      <th>stories</th>\n",
       "      <th>parking</th>\n",
       "    </tr>\n",
       "  </thead>\n",
       "  <tbody>\n",
       "    <tr>\n",
       "      <th>0</th>\n",
       "      <td>13300000</td>\n",
       "      <td>7420</td>\n",
       "      <td>4</td>\n",
       "      <td>2</td>\n",
       "      <td>3</td>\n",
       "      <td>2</td>\n",
       "    </tr>\n",
       "    <tr>\n",
       "      <th>1</th>\n",
       "      <td>12250000</td>\n",
       "      <td>8960</td>\n",
       "      <td>4</td>\n",
       "      <td>4</td>\n",
       "      <td>4</td>\n",
       "      <td>3</td>\n",
       "    </tr>\n",
       "    <tr>\n",
       "      <th>2</th>\n",
       "      <td>12250000</td>\n",
       "      <td>9960</td>\n",
       "      <td>3</td>\n",
       "      <td>2</td>\n",
       "      <td>2</td>\n",
       "      <td>2</td>\n",
       "    </tr>\n",
       "    <tr>\n",
       "      <th>3</th>\n",
       "      <td>12215000</td>\n",
       "      <td>7500</td>\n",
       "      <td>4</td>\n",
       "      <td>2</td>\n",
       "      <td>2</td>\n",
       "      <td>3</td>\n",
       "    </tr>\n",
       "    <tr>\n",
       "      <th>4</th>\n",
       "      <td>11410000</td>\n",
       "      <td>7420</td>\n",
       "      <td>4</td>\n",
       "      <td>1</td>\n",
       "      <td>2</td>\n",
       "      <td>2</td>\n",
       "    </tr>\n",
       "    <tr>\n",
       "      <th>...</th>\n",
       "      <td>...</td>\n",
       "      <td>...</td>\n",
       "      <td>...</td>\n",
       "      <td>...</td>\n",
       "      <td>...</td>\n",
       "      <td>...</td>\n",
       "    </tr>\n",
       "    <tr>\n",
       "      <th>540</th>\n",
       "      <td>1820000</td>\n",
       "      <td>3000</td>\n",
       "      <td>2</td>\n",
       "      <td>1</td>\n",
       "      <td>1</td>\n",
       "      <td>2</td>\n",
       "    </tr>\n",
       "    <tr>\n",
       "      <th>541</th>\n",
       "      <td>1767150</td>\n",
       "      <td>2400</td>\n",
       "      <td>3</td>\n",
       "      <td>1</td>\n",
       "      <td>1</td>\n",
       "      <td>0</td>\n",
       "    </tr>\n",
       "    <tr>\n",
       "      <th>542</th>\n",
       "      <td>1750000</td>\n",
       "      <td>3620</td>\n",
       "      <td>2</td>\n",
       "      <td>1</td>\n",
       "      <td>1</td>\n",
       "      <td>0</td>\n",
       "    </tr>\n",
       "    <tr>\n",
       "      <th>543</th>\n",
       "      <td>1750000</td>\n",
       "      <td>2910</td>\n",
       "      <td>3</td>\n",
       "      <td>1</td>\n",
       "      <td>1</td>\n",
       "      <td>0</td>\n",
       "    </tr>\n",
       "    <tr>\n",
       "      <th>544</th>\n",
       "      <td>1750000</td>\n",
       "      <td>3850</td>\n",
       "      <td>3</td>\n",
       "      <td>1</td>\n",
       "      <td>2</td>\n",
       "      <td>0</td>\n",
       "    </tr>\n",
       "  </tbody>\n",
       "</table>\n",
       "<p>545 rows × 6 columns</p>\n",
       "</div>"
      ],
      "text/plain": [
       "        price  area  bedrooms  bathrooms  stories  parking\n",
       "0    13300000  7420         4          2        3        2\n",
       "1    12250000  8960         4          4        4        3\n",
       "2    12250000  9960         3          2        2        2\n",
       "3    12215000  7500         4          2        2        3\n",
       "4    11410000  7420         4          1        2        2\n",
       "..        ...   ...       ...        ...      ...      ...\n",
       "540   1820000  3000         2          1        1        2\n",
       "541   1767150  2400         3          1        1        0\n",
       "542   1750000  3620         2          1        1        0\n",
       "543   1750000  2910         3          1        1        0\n",
       "544   1750000  3850         3          1        2        0\n",
       "\n",
       "[545 rows x 6 columns]"
      ]
     },
     "execution_count": 14,
     "metadata": {},
     "output_type": "execute_result"
    }
   ],
   "source": [
    "## showing the correlation between float and integers values\n",
    "int_float_columns = df.select_dtypes(include=['int', 'float'])\n",
    "int_float_columns"
   ]
  },
  {
   "cell_type": "code",
   "execution_count": 15,
   "id": "5eaeecd6-7a9d-434f-a2f7-856cee386070",
   "metadata": {},
   "outputs": [
    {
     "data": {
      "text/html": [
       "<div>\n",
       "<style scoped>\n",
       "    .dataframe tbody tr th:only-of-type {\n",
       "        vertical-align: middle;\n",
       "    }\n",
       "\n",
       "    .dataframe tbody tr th {\n",
       "        vertical-align: top;\n",
       "    }\n",
       "\n",
       "    .dataframe thead th {\n",
       "        text-align: right;\n",
       "    }\n",
       "</style>\n",
       "<table border=\"1\" class=\"dataframe\">\n",
       "  <thead>\n",
       "    <tr style=\"text-align: right;\">\n",
       "      <th></th>\n",
       "      <th>price</th>\n",
       "      <th>area</th>\n",
       "      <th>bedrooms</th>\n",
       "      <th>bathrooms</th>\n",
       "      <th>stories</th>\n",
       "      <th>parking</th>\n",
       "    </tr>\n",
       "  </thead>\n",
       "  <tbody>\n",
       "    <tr>\n",
       "      <th>price</th>\n",
       "      <td>1.000000</td>\n",
       "      <td>0.535997</td>\n",
       "      <td>0.366494</td>\n",
       "      <td>0.517545</td>\n",
       "      <td>0.420712</td>\n",
       "      <td>0.384394</td>\n",
       "    </tr>\n",
       "    <tr>\n",
       "      <th>area</th>\n",
       "      <td>0.535997</td>\n",
       "      <td>1.000000</td>\n",
       "      <td>0.151858</td>\n",
       "      <td>0.193820</td>\n",
       "      <td>0.083996</td>\n",
       "      <td>0.352980</td>\n",
       "    </tr>\n",
       "    <tr>\n",
       "      <th>bedrooms</th>\n",
       "      <td>0.366494</td>\n",
       "      <td>0.151858</td>\n",
       "      <td>1.000000</td>\n",
       "      <td>0.373930</td>\n",
       "      <td>0.408564</td>\n",
       "      <td>0.139270</td>\n",
       "    </tr>\n",
       "    <tr>\n",
       "      <th>bathrooms</th>\n",
       "      <td>0.517545</td>\n",
       "      <td>0.193820</td>\n",
       "      <td>0.373930</td>\n",
       "      <td>1.000000</td>\n",
       "      <td>0.326165</td>\n",
       "      <td>0.177496</td>\n",
       "    </tr>\n",
       "    <tr>\n",
       "      <th>stories</th>\n",
       "      <td>0.420712</td>\n",
       "      <td>0.083996</td>\n",
       "      <td>0.408564</td>\n",
       "      <td>0.326165</td>\n",
       "      <td>1.000000</td>\n",
       "      <td>0.045547</td>\n",
       "    </tr>\n",
       "    <tr>\n",
       "      <th>parking</th>\n",
       "      <td>0.384394</td>\n",
       "      <td>0.352980</td>\n",
       "      <td>0.139270</td>\n",
       "      <td>0.177496</td>\n",
       "      <td>0.045547</td>\n",
       "      <td>1.000000</td>\n",
       "    </tr>\n",
       "  </tbody>\n",
       "</table>\n",
       "</div>"
      ],
      "text/plain": [
       "              price      area  bedrooms  bathrooms   stories   parking\n",
       "price      1.000000  0.535997  0.366494   0.517545  0.420712  0.384394\n",
       "area       0.535997  1.000000  0.151858   0.193820  0.083996  0.352980\n",
       "bedrooms   0.366494  0.151858  1.000000   0.373930  0.408564  0.139270\n",
       "bathrooms  0.517545  0.193820  0.373930   1.000000  0.326165  0.177496\n",
       "stories    0.420712  0.083996  0.408564   0.326165  1.000000  0.045547\n",
       "parking    0.384394  0.352980  0.139270   0.177496  0.045547  1.000000"
      ]
     },
     "execution_count": 15,
     "metadata": {},
     "output_type": "execute_result"
    }
   ],
   "source": [
    "correlation_btn_num = int_float_columns.corr()\n",
    "correlation_btn_num"
   ]
  },
  {
   "cell_type": "code",
   "execution_count": 16,
   "id": "e5926ce7-9b88-405d-b78f-7059d98c4f2c",
   "metadata": {},
   "outputs": [
    {
     "data": {
      "text/plain": [
       "price        1.000000\n",
       "area         0.535997\n",
       "bedrooms     0.366494\n",
       "bathrooms    0.517545\n",
       "stories      0.420712\n",
       "parking      0.384394\n",
       "Name: price, dtype: float64"
      ]
     },
     "execution_count": 16,
     "metadata": {},
     "output_type": "execute_result"
    }
   ],
   "source": [
    "## showing the correlation of our target variable only\n",
    "correlation_btn_num['price']"
   ]
  },
  {
   "cell_type": "markdown",
   "id": "b05d75f2-8faf-48e4-8889-dc708e6ab79c",
   "metadata": {},
   "source": [
    "## Exploratory Data Analysis"
   ]
  },
  {
   "cell_type": "markdown",
   "id": "b6e8caca-3de2-454f-96bd-0e37f861e535",
   "metadata": {},
   "source": [
    "# Target Variable Analysis"
   ]
  },
  {
   "cell_type": "code",
   "execution_count": 17,
   "id": "63df5e9c-5aa1-442b-ac9e-416b1b2f7160",
   "metadata": {},
   "outputs": [
    {
     "data": {
      "image/png": "[encoded data removed]",
      "text/plain": [
       "<Figure size 1000x600 with 1 Axes>"
      ]
     },
     "metadata": {},
     "output_type": "display_data"
    }
   ],
   "source": [
    "## graphical representations of the correlation between Price and Area\n",
    "plt.figure(figsize=(10, 6))\n",
    "\n",
    "sns.scatterplot(data=df, x='area', y='price', color='red')\n",
    "plt.title('Correlation between Area and Price of a house')\n",
    "plt.xlabel('Area')\n",
    "plt.ylabel('Price')\n",
    "plt.show()"
   ]
  },
  {
   "cell_type": "code",
   "execution_count": 18,
   "id": "f4d7a0c6-9c5f-4583-8151-7ac02620a69e",
   "metadata": {},
   "outputs": [
    {
     "data": {
      "image/png": "[encoded data removed]",
      "text/plain": [
       "<Figure size 1000x600 with 1 Axes>"
      ]
     },
     "metadata": {},
     "output_type": "display_data"
    }
   ],
   "source": [
    "## graphical representations of the correlation between Price and Bathrooms\n",
    "\n",
    "plt.figure(figsize=(10, 6))\n",
    "\n",
    "sns.scatterplot(data=df, x='bathrooms', y='price', color='red')\n",
    "plt.title('Correlation between Area and Price of a house')\n",
    "plt.xlabel('Bathrooms')\n",
    "plt.ylabel('Price')\n",
    "plt.show()"
   ]
  },
  {
   "cell_type": "code",
   "execution_count": 19,
   "id": "cd4799d8-c950-4168-b73f-2d141b43be54",
   "metadata": {},
   "outputs": [
    {
     "data": {
      "image/png": "[encoded data removed]",
      "text/plain": [
       "<Figure size 1200x600 with 1 Axes>"
      ]
     },
     "metadata": {},
     "output_type": "display_data"
    }
   ],
   "source": [
    "plt.figure(figsize=(12, 6))\n",
    "\n",
    "sns.histplot(df['price'], color='black', bins=30)\n",
    "plt.title('frequency distribution of Price')\n",
    "plt.xlabel('Price')\n",
    "plt.ylabel('Frequency')\n",
    "plt.show()"
   ]
  },
  {
   "cell_type": "code",
   "execution_count": 20,
   "id": "9b46344d-23a5-4f7d-808b-a2142a5c2c98",
   "metadata": {},
   "outputs": [],
   "source": [
    "## Normalizing the fregquency distribution of price\n",
    "log_price = np.log1p(df['price'])"
   ]
  },
  {
   "cell_type": "code",
   "execution_count": 21,
   "id": "b6264e33-0579-4b08-8c26-6bc1bc85cb24",
   "metadata": {},
   "outputs": [
    {
     "data": {
      "image/png": "[encoded data removed]",
      "text/plain": [
       "<Figure size 1200x600 with 1 Axes>"
      ]
     },
     "metadata": {},
     "output_type": "display_data"
    }
   ],
   "source": [
    "## graphical representation of the transformed price\n",
    "plt.figure(figsize=(12, 6))\n",
    "\n",
    "sns.histplot(log_price, color='black', bins=30)\n",
    "plt.title('frequency distribution of Price')\n",
    "plt.xlabel('Price')\n",
    "plt.ylabel('Frequency')\n",
    "plt.show()"
   ]
  },
  {
   "cell_type": "markdown",
   "id": "f083e148-4db6-4da5-8765-4fdb5c133b27",
   "metadata": {},
   "source": [
    "## Building a validation framework\n",
    "1. Training dataset 60%\n",
    "2. Validation dataset 20%\n",
    "3. Testing dataset 20%"
   ]
  },
  {
   "cell_type": "code",
   "execution_count": 22,
   "id": "b98bb3b6-dc97-41a3-81f1-5abfa9412aa6",
   "metadata": {},
   "outputs": [
    {
     "name": "stdout",
     "output_type": "stream",
     "text": [
      "Size of Training Dataset 327\n",
      "Size of Validation Dataset 109\n",
      "Size of Testing Dataset 109\n"
     ]
    }
   ],
   "source": [
    "## Dividing the dataset into training, validating and testing dataset\n",
    "df_train_valid, df_test = train_test_split(df, test_size=0.2 , random_state=20)\n",
    "df_train, df_valid = train_test_split(df_train_valid, test_size=0.25, random_state=20) \n",
    "\n",
    "print(f'Size of Training Dataset {len(df_train)}')\n",
    "print(f'Size of Validation Dataset {len(df_valid)}')\n",
    "print(f'Size of Testing Dataset {len(df_test)}')"
   ]
  },
  {
   "cell_type": "code",
   "execution_count": 23,
   "id": "61859e0f-5273-4b64-b1bc-839aa74b68d6",
   "metadata": {},
   "outputs": [],
   "source": [
    "# Data preparation for the machine learning\n",
    "y_train = df_train['price']\n",
    "y_valid = df_valid['price']"
   ]
  },
  {
   "cell_type": "code",
   "execution_count": 24,
   "id": "8d18f40a-9a81-43e9-8a29-4281ff0fb76b",
   "metadata": {},
   "outputs": [],
   "source": [
    "del df_train['price']\n",
    "del df_valid['price']"
   ]
  },
  {
   "cell_type": "code",
   "execution_count": 25,
   "id": "72968815-498f-43d5-b941-fd8fcc293436",
   "metadata": {},
   "outputs": [],
   "source": [
    "## transforming the target variable\n",
    "y_train = np.log1p(y_train).values\n",
    "y_valid = np.log1p(y_valid ).values"
   ]
  },
  {
   "cell_type": "code",
   "execution_count": 26,
   "id": "fac1694b-b3da-48ca-8583-1fa177d8a2d4",
   "metadata": {},
   "outputs": [],
   "source": [
    "### selecting only int and float from the features for the training and validation\n",
    "df_train_numb_only = df_train.select_dtypes(include=['int', 'float'])\n",
    "df_valid_numb_only = df_valid.select_dtypes(include=['int', 'float'])"
   ]
  },
  {
   "cell_type": "markdown",
   "id": "1762d907-4e56-4461-9bc2-41e04ef8f3b8",
   "metadata": {},
   "source": [
    "## Training the baseline models"
   ]
  },
  {
   "cell_type": "markdown",
   "id": "27b069c0-d781-4632-bd91-b19bd3264a83",
   "metadata": {},
   "source": [
    "# linear regression model "
   ]
  },
  {
   "cell_type": "code",
   "execution_count": 27,
   "id": "88af630a-def5-440a-9fca-480d276eb248",
   "metadata": {},
   "outputs": [
    {
     "name": "stdout",
     "output_type": "stream",
     "text": [
      "Baseline Validation Metric 26.0 %\n"
     ]
    }
   ],
   "source": [
    "## creating an instance for the linear regression model \n",
    "l_model = LinearRegression()\n",
    "l_model.fit(df_train_numb_only,y_train)\n",
    "\n",
    "## Evaluating the linear regression model\n",
    "y_valid_predict = l_model.predict(df_valid_numb_only)\n",
    "\n",
    "l_model_rmse = root_mean_squared_error(y_valid, y_valid_predict) \n",
    "\n",
    "print(f'Baseline Validation Metric {round(l_model_rmse, 2) * 100} %')\n"
   ]
  },
  {
   "cell_type": "markdown",
   "id": "1a3f842b-410d-440f-a620-1f2b3ad01c8a",
   "metadata": {},
   "source": [
    "# DecisionTreeRegressor model"
   ]
  },
  {
   "cell_type": "code",
   "execution_count": 28,
   "id": "70ae0f6a-5302-4a3b-b102-867e1f2d4a01",
   "metadata": {},
   "outputs": [
    {
     "name": "stdout",
     "output_type": "stream",
     "text": [
      "Baseline Validation Metric 35.0 %\n"
     ]
    }
   ],
   "source": [
    "## creating an instance for a DecisionTreeRegressor model \n",
    "tree_model = DecisionTreeRegressor()\n",
    "tree_model.fit(df_train_numb_only,y_train)\n",
    "\n",
    "## Evaluating the linear regression model\n",
    "y_valid_predict = tree_model.predict(df_valid_numb_only)\n",
    "\n",
    "tree_model_rmse = root_mean_squared_error(y_valid, y_valid_predict) \n",
    "print(f'Baseline Validation Metric {round(tree_model_rmse, 2) * 100} %')\n"
   ]
  },
  {
   "cell_type": "markdown",
   "id": "ac4e3974-77d0-4ccb-bf97-e3657e68eb26",
   "metadata": {},
   "source": [
    " ## RandomForestRegressor model"
   ]
  },
  {
   "cell_type": "code",
   "execution_count": 29,
   "id": "3b9eb733-eb9f-4e06-8b75-4b962ee2eba2",
   "metadata": {},
   "outputs": [
    {
     "name": "stdout",
     "output_type": "stream",
     "text": [
      "Baseline Validation Metric 28.000000000000004 %\n"
     ]
    }
   ],
   "source": [
    "## creating an instance for a DecisionTreeRegressor model \n",
    "rf_model = RandomForestRegressor()\n",
    "rf_model.fit(df_train_numb_only,y_train)\n",
    "\n",
    "## Evaluating the linear regression model\n",
    "y_valid_predict = rf_model.predict(df_valid_numb_only)\n",
    "\n",
    "rf_model_rmse = root_mean_squared_error(y_valid, y_valid_predict) \n",
    "print(f'Baseline Validation Metric {round(rf_model_rmse, 2) * 100} %')\n"
   ]
  },
  {
   "cell_type": "markdown",
   "id": "510f738d-048d-4e95-a0ae-4d04792bf3ed",
   "metadata": {},
   "source": [
    "## AdaBoostRegressor model"
   ]
  },
  {
   "cell_type": "code",
   "execution_count": 30,
   "id": "ef301670-3641-4533-bb99-30dca5486611",
   "metadata": {},
   "outputs": [
    {
     "name": "stdout",
     "output_type": "stream",
     "text": [
      "Baseline Validation Metric 27.0 %\n"
     ]
    }
   ],
   "source": [
    "## creating an instance for a DecisionTreeRegressor model \n",
    "ab_model = AdaBoostRegressor()\n",
    "ab_model.fit(df_train_numb_only,y_train)\n",
    "\n",
    "## Evaluating the linear regression model\n",
    "y_valid_predict = ab_model.predict(df_valid_numb_only)\n",
    "\n",
    "ab_model_rmse = root_mean_squared_error(y_valid, y_valid_predict) \n",
    "print(f'Baseline Validation Metric {round(ab_model_rmse, 2) * 100} %')\n"
   ]
  },
  {
   "cell_type": "markdown",
   "id": "63fa9b32-dfe6-4e86-b1e7-2b8f6ee66f8b",
   "metadata": {},
   "source": [
    "## GradientBoostingRegressor model "
   ]
  },
  {
   "cell_type": "code",
   "execution_count": 31,
   "id": "190e0142-d06d-4a2a-bfb5-131bb6e39819",
   "metadata": {},
   "outputs": [
    {
     "name": "stdout",
     "output_type": "stream",
     "text": [
      "Baseline Validation Metric 28.999999999999996 %\n"
     ]
    }
   ],
   "source": [
    "## creating an instance for a GradientBoostingRegressor model \n",
    "gb_model = GradientBoostingRegressor()\n",
    "gb_model.fit(df_train_numb_only,y_train)\n",
    "\n",
    "## Evaluating the linear regression model\n",
    "y_valid_predict = gb_model.predict(df_valid_numb_only)\n",
    "\n",
    "gb_model_rmse = root_mean_squared_error(y_valid, y_valid_predict) \n",
    "print(f'Baseline Validation Metric {round(gb_model_rmse, 2) * 100} %')\n"
   ]
  },
  {
   "cell_type": "markdown",
   "id": "bd375a00-4eb1-4a13-9d06-1406665648d2",
   "metadata": {},
   "source": [
    "## BaggingRegressor model "
   ]
  },
  {
   "cell_type": "code",
   "execution_count": 32,
   "id": "f136b2ef-a012-4677-bae2-be88628880a4",
   "metadata": {},
   "outputs": [
    {
     "name": "stdout",
     "output_type": "stream",
     "text": [
      "Baseline Validation Metric 28.999999999999996 %\n"
     ]
    }
   ],
   "source": [
    "## creating an instance for a BaggingRegressor model \n",
    "br_model = GradientBoostingRegressor()\n",
    "br_model.fit(df_train_numb_only,y_train)\n",
    "\n",
    "## Evaluating the linear regression model\n",
    "y_valid_predict = br_model.predict(df_valid_numb_only)\n",
    "\n",
    "br_model_rmse = root_mean_squared_error(y_valid, y_valid_predict) \n",
    "print(f'Baseline Validation Metric {round(br_model_rmse, 2) * 100} %')\n"
   ]
  },
  {
   "cell_type": "markdown",
   "id": "cb09c402-5d55-47c3-a369-2837951c7ffb",
   "metadata": {},
   "source": [
    "## XGBRegressor model"
   ]
  },
  {
   "cell_type": "code",
   "execution_count": 33,
   "id": "9fbdd6e2-28f5-4a9c-badb-eeadc4a28ddf",
   "metadata": {},
   "outputs": [
    {
     "name": "stdout",
     "output_type": "stream",
     "text": [
      "Baseline Validation Metric 28.999999999999996 %\n"
     ]
    }
   ],
   "source": [
    "## creating an instance for a XGBRegressor model \n",
    "xgb_model = GradientBoostingRegressor()\n",
    "xgb_model.fit(df_train_numb_only,y_train)\n",
    "\n",
    "## Evaluating the linear regression model\n",
    "y_valid_predict = xgb_model.predict(df_valid_numb_only)\n",
    "\n",
    "xgb_model_rmse = root_mean_squared_error(y_valid, y_valid_predict) \n",
    "print(f'Baseline Validation Metric {round(xgb_model_rmse, 2) * 100} %')\n"
   ]
  },
  {
   "cell_type": "markdown",
   "id": "93c7fc75-ae2d-49a8-87ee-cc53a38dffe5",
   "metadata": {},
   "source": [
    "## Feature engineering on the dataset for the training and validation"
   ]
  },
  {
   "cell_type": "code",
   "execution_count": 34,
   "id": "a1c42aae-021c-4713-82c2-7835c9910183",
   "metadata": {},
   "outputs": [],
   "source": [
    "## Feature engineering on the dataset for the training and validation\n",
    "df_train_include_cat = df_train.select_dtypes(include=['int', 'float', 'category'])\n",
    "df_valid_include_cat = df_valid.select_dtypes(include=['int', 'float', 'category'])"
   ]
  },
  {
   "cell_type": "code",
   "execution_count": 35,
   "id": "5da96fd4-03da-447b-a63a-e3bd66b7f1e1",
   "metadata": {},
   "outputs": [],
   "source": [
    "# converting to dictionary\n",
    "df_train_include_cat_dict = df_train_include_cat.to_dict(orient='records')\n",
    "df_valid_include_cat_dict = df_valid_include_cat.to_dict(orient='records')"
   ]
  },
  {
   "cell_type": "code",
   "execution_count": 36,
   "id": "771209dc-1885-41f1-8cb3-9f6014b7000e",
   "metadata": {},
   "outputs": [
    {
     "data": {
      "text/plain": [
       "array([[0.00e+00, 1.00e+00, 6.00e+03, ..., 1.00e+00, 0.00e+00, 4.00e+00],\n",
       "       [1.00e+00, 0.00e+00, 3.75e+03, ..., 1.00e+00, 0.00e+00, 1.00e+00],\n",
       "       [0.00e+00, 1.00e+00, 6.00e+03, ..., 1.00e+00, 0.00e+00, 4.00e+00],\n",
       "       ...,\n",
       "       [1.00e+00, 0.00e+00, 6.05e+03, ..., 0.00e+00, 1.00e+00, 1.00e+00],\n",
       "       [0.00e+00, 1.00e+00, 6.55e+03, ..., 0.00e+00, 1.00e+00, 2.00e+00],\n",
       "       [0.00e+00, 1.00e+00, 5.72e+03, ..., 0.00e+00, 1.00e+00, 2.00e+00]])"
      ]
     },
     "execution_count": 36,
     "metadata": {},
     "output_type": "execute_result"
    }
   ],
   "source": [
    "## feature encoding \n",
    "dv = DictVectorizer(sparse=False) \n",
    "\n",
    "dv.fit(df_train_include_cat_dict) \n",
    "\n",
    "## transforming \n",
    "X_train = dv.transform(df_train_include_cat_dict) \n",
    "X_valid = dv.transform(df_valid_include_cat_dict) \n",
    "X_train"
   ]
  },
  {
   "cell_type": "markdown",
   "id": "20c583f2-c5f8-46f0-ac63-ccc6712e1c57",
   "metadata": {},
   "source": [
    "## Training the baseline models"
   ]
  },
  {
   "cell_type": "markdown",
   "id": "fc5eb764-32c7-4455-b431-3b6269f4a040",
   "metadata": {},
   "source": [
    "# linear regression model"
   ]
  },
  {
   "cell_type": "code",
   "execution_count": 37,
   "id": "be6a058a-3f3c-4e68-97f5-5e7eb95119e0",
   "metadata": {},
   "outputs": [
    {
     "name": "stdout",
     "output_type": "stream",
     "text": [
      "Baseline Validation Metric 21.0 %\n"
     ]
    }
   ],
   "source": [
    "## creating an instance for the linear regression model \n",
    "l_model_2 = LinearRegression()\n",
    "l_model_2.fit(X_train,y_train)\n",
    "\n",
    "## Evaluating the linear regression model\n",
    "y_valid_predict = l_model_2.predict(X_valid)\n",
    "\n",
    "l_model_2_rmse = root_mean_squared_error(y_valid, y_valid_predict) \n",
    "\n",
    "print(f'Baseline Validation Metric {round(l_model_2_rmse, 2) * 100} %')\n"
   ]
  },
  {
   "cell_type": "markdown",
   "id": "d73138a3-1188-4d2a-a799-6257cc7949a2",
   "metadata": {},
   "source": [
    "# DecisionTreeRegressor model"
   ]
  },
  {
   "cell_type": "code",
   "execution_count": 38,
   "id": "39a8a30d-2315-4bcf-ba13-17602b8ec6fb",
   "metadata": {},
   "outputs": [
    {
     "name": "stdout",
     "output_type": "stream",
     "text": [
      "Baseline Validation Metric 30.0 %\n"
     ]
    }
   ],
   "source": [
    "## creating an instance for the DecisionTreeRegressor model \n",
    "tree_model_2 = DecisionTreeRegressor()\n",
    "tree_model_2.fit(X_train,y_train)\n",
    "\n",
    "## Evaluating the linear regression model\n",
    "y_valid_predict = tree_model_2.predict(X_valid)\n",
    "\n",
    "tree_model_2_rmse = root_mean_squared_error(y_valid, y_valid_predict) \n",
    "\n",
    "print(f'Baseline Validation Metric {round(tree_model_2_rmse, 2) * 100} %')\n"
   ]
  },
  {
   "cell_type": "markdown",
   "id": "7d464c27-3cae-41b8-b3ef-e37525600138",
   "metadata": {},
   "source": [
    "# RandomForestRegressor model"
   ]
  },
  {
   "cell_type": "code",
   "execution_count": 39,
   "id": "b0b8e997-7f55-4ead-a575-b5880b3b080a",
   "metadata": {},
   "outputs": [
    {
     "name": "stdout",
     "output_type": "stream",
     "text": [
      "Baseline Validation Metric 22.0 %\n"
     ]
    }
   ],
   "source": [
    "## creating an instance for the RandomForestRegressor model \n",
    "rf_model_2 = RandomForestRegressor()\n",
    "rf_model_2.fit(X_train,y_train)\n",
    "\n",
    "## Evaluating the linear regression model\n",
    "y_valid_predict = rf_model_2.predict(X_valid)\n",
    "\n",
    "rf_model_2_rmse = root_mean_squared_error(y_valid, y_valid_predict) \n",
    "\n",
    "print(f'Baseline Validation Metric {round(rf_model_2_rmse, 2) * 100} %')\n"
   ]
  },
  {
   "cell_type": "markdown",
   "id": "cd213997-8932-4ff3-98ef-d3aa5ebfe7be",
   "metadata": {},
   "source": [
    "# AdaBoostRegressor model"
   ]
  },
  {
   "cell_type": "code",
   "execution_count": 40,
   "id": "7baced65-d581-418d-8a78-791607007533",
   "metadata": {},
   "outputs": [
    {
     "name": "stdout",
     "output_type": "stream",
     "text": [
      "Baseline Validation Metric 24.0 %\n"
     ]
    }
   ],
   "source": [
    "## creating an instance for the AdaBoostRegressor model \n",
    "ad_model_2 = AdaBoostRegressor()\n",
    "ad_model_2.fit(X_train,y_train)\n",
    "\n",
    "## Evaluating the linear regression model\n",
    "y_valid_predict = ad_model_2.predict(X_valid)\n",
    "\n",
    "ad_model_2_rmse = root_mean_squared_error(y_valid, y_valid_predict) \n",
    "\n",
    "print(f'Baseline Validation Metric {round(ad_model_2_rmse, 2) * 100} %')\n"
   ]
  },
  {
   "cell_type": "markdown",
   "id": "bc0f9319-947b-42f4-a0db-9452cecd3a15",
   "metadata": {},
   "source": [
    "## GradientBoostingRegressor model"
   ]
  },
  {
   "cell_type": "code",
   "execution_count": 41,
   "id": "5bb57965-8ded-468f-a1ff-376f1c9ce816",
   "metadata": {},
   "outputs": [
    {
     "name": "stdout",
     "output_type": "stream",
     "text": [
      "Baseline Validation Metric 23.0 %\n"
     ]
    }
   ],
   "source": [
    "## creating an instance for the GradientBoostingRegressor model \n",
    "gb_model_2 = GradientBoostingRegressor()\n",
    "gb_model_2.fit(X_train,y_train)\n",
    "\n",
    "## Evaluating the linear regression model\n",
    "y_valid_predict = gb_model_2.predict(X_valid)\n",
    "\n",
    "gb_model_2_rmse = root_mean_squared_error(y_valid, y_valid_predict) \n",
    "\n",
    "print(f'Baseline Validation Metric {round(gb_model_2_rmse, 2) * 100} %')\n"
   ]
  },
  {
   "cell_type": "markdown",
   "id": "a1b6a6d4-9cce-4e9f-8d5a-4b2cb1999514",
   "metadata": {},
   "source": [
    "## BaggingRegressor model "
   ]
  },
  {
   "cell_type": "code",
   "execution_count": 42,
   "id": "e3962eae-88ae-4b5c-97b1-6d428d402663",
   "metadata": {},
   "outputs": [
    {
     "name": "stdout",
     "output_type": "stream",
     "text": [
      "Baseline Validation Metric 24.0 %\n"
     ]
    }
   ],
   "source": [
    "## creating an instance for the BaggingRegressor model \n",
    "br_model_2 = BaggingRegressor()\n",
    "br_model_2.fit(X_train,y_train)\n",
    "\n",
    "## Evaluating the linear regression model\n",
    "y_valid_predict = br_model_2.predict(X_valid)\n",
    "\n",
    "br_model_2_rmse = root_mean_squared_error(y_valid, y_valid_predict) \n",
    "\n",
    "print(f'Baseline Validation Metric {round(br_model_2_rmse, 2) * 100} %')\n"
   ]
  },
  {
   "cell_type": "markdown",
   "id": "72740a75-ce93-42c2-9776-354940e1d3ff",
   "metadata": {},
   "source": [
    "# XGBRegressor model"
   ]
  },
  {
   "cell_type": "code",
   "execution_count": 43,
   "id": "7befba6b-29e6-485a-b0c9-955238262b75",
   "metadata": {},
   "outputs": [
    {
     "name": "stdout",
     "output_type": "stream",
     "text": [
      "Baseline Validation Metric 25.0 %\n"
     ]
    }
   ],
   "source": [
    "## creating an instance for the XGBRegressor model \n",
    "xgb_model_2 = XGBRegressor()\n",
    "xgb_model_2.fit(X_train,y_train)\n",
    "\n",
    "## Evaluating the linear regression model\n",
    "y_valid_predict = xgb_model_2.predict(X_valid)\n",
    "\n",
    "xgb_model_2_rmse = root_mean_squared_error(y_valid, y_valid_predict) \n",
    "\n",
    "print(f'Baseline Validation Metric {round(xgb_model_2_rmse, 2) * 100} %')\n"
   ]
  },
  {
   "cell_type": "markdown",
   "id": "c4383bfa-cfb2-43ac-a1ec-fe28027130c3",
   "metadata": {},
   "source": [
    "## Training and Testing Final Model"
   ]
  },
  {
   "cell_type": "code",
   "execution_count": 44,
   "id": "9fb25fe1-c25a-4290-8856-02a2c378b97c",
   "metadata": {},
   "outputs": [],
   "source": [
    "## taking the target variable out of the dataset\n",
    "y_train_fm = df_train_valid['price']\n",
    "y_test_fm = df_test['price']\n",
    "\n",
    "\n",
    "del df_train_valid['price']\n",
    "del df_test['price']\n",
    "\n",
    "\n",
    "## normalizing the target variable\n",
    "y_train_fm = np.log1p(y_train_fm).values\n",
    "y_test_fm = np.log1p(y_test_fm).values"
   ]
  },
  {
   "cell_type": "code",
   "execution_count": 46,
   "id": "e475d4cc-ca21-447a-ab04-b79e688f8a0a",
   "metadata": {},
   "outputs": [],
   "source": [
    "## converting the features to dictionary\n",
    "df_train_valid_todict = df_train_valid.to_dict(orient='records')\n",
    "df_test_todict = df_test.to_dict(orient='records')"
   ]
  },
  {
   "cell_type": "code",
   "execution_count": 47,
   "id": "5eefe9fa-dec4-47d6-9a32-b82b20748f5e",
   "metadata": {},
   "outputs": [
    {
     "data": {
      "text/plain": [
       "array([[0.000e+00, 1.000e+00, 4.280e+03, ..., 1.000e+00, 0.000e+00,\n",
       "        1.000e+00],\n",
       "       [1.000e+00, 0.000e+00, 4.500e+03, ..., 1.000e+00, 0.000e+00,\n",
       "        1.000e+00],\n",
       "       [1.000e+00, 0.000e+00, 3.970e+03, ..., 1.000e+00, 0.000e+00,\n",
       "        1.000e+00],\n",
       "       ...,\n",
       "       [1.000e+00, 0.000e+00, 1.905e+03, ..., 1.000e+00, 0.000e+00,\n",
       "        2.000e+00],\n",
       "       [1.000e+00, 0.000e+00, 4.352e+03, ..., 1.000e+00, 0.000e+00,\n",
       "        2.000e+00],\n",
       "       [1.000e+00, 0.000e+00, 8.250e+03, ..., 1.000e+00, 0.000e+00,\n",
       "        1.000e+00]])"
      ]
     },
     "execution_count": 47,
     "metadata": {},
     "output_type": "execute_result"
    }
   ],
   "source": [
    "## feature encoding the categorical features\n",
    "dv = DictVectorizer(sparse=False) \n",
    "\n",
    "dv.fit(df_train_valid_todict) \n",
    "\n",
    "## transforming \n",
    "X_train_fm = dv.transform(df_train_valid_todict) \n",
    "X_test_fm = dv.transform(df_test_todict) \n",
    "X_train_fm"
   ]
  },
  {
   "cell_type": "code",
   "execution_count": 49,
   "id": "d1982f9b-8e20-4bf9-8ea3-73b9e761d5f9",
   "metadata": {},
   "outputs": [
    {
     "name": "stdout",
     "output_type": "stream",
     "text": [
      "Baseline Validation Metric 21.0 %\n"
     ]
    }
   ],
   "source": [
    "## Testing the final linear regression model (l_model_2)\n",
    "## creating an instance for the linear regression model \n",
    "l_model_2 = LinearRegression()\n",
    "l_model_2.fit(X_train_fm,y_train_fm)\n",
    "\n",
    "## Evaluating the linear regression model\n",
    "y_test_predict = l_model_2.predict(X_test_fm)\n",
    "\n",
    "l_model_2_rmse = root_mean_squared_error(y_test_fm, y_test_predict) \n",
    "\n",
    "print(f'Baseline Validation Metric {round(l_model_2_rmse, 2) * 100} %')\n"
   ]
  },
  {
   "cell_type": "markdown",
   "id": "114f2442-5435-49ad-bcb5-aa2b91eb0138",
   "metadata": {},
   "source": [
    "## Saving the final model"
   ]
  },
  {
   "cell_type": "code",
   "execution_count": 51,
   "id": "5c3d4e17-6446-4882-9bc2-99bd2ce4fb66",
   "metadata": {},
   "outputs": [],
   "source": [
    "import pickle \n",
    "\n",
    "with open('house_price_prediction.bin', 'wb') as f_out: \n",
    "    pickle.dump((dv, l_model_2), f_out)"
   ]
  },
  {
   "cell_type": "code",
   "execution_count": null,
   "id": "4324f912-ed73-4ee1-b161-61a8de3e29e7",
   "metadata": {},
   "outputs": [],
   "source": []
  }
 ],
 "metadata": {
  "kernelspec": {
   "display_name": "Python 3 (ipykernel)",
   "language": "python",
   "name": "python3"
  },
  "language_info": {
   "codemirror_mode": {
    "name": "ipython",
    "version": 3
   },
   "file_extension": ".py",
   "mimetype": "text/x-python",
   "name": "python",
   "nbconvert_exporter": "python",
   "pygments_lexer": "ipython3",
   "version": "3.12.5"
  }
 },
 "nbformat": 4,
 "nbformat_minor": 5
}
